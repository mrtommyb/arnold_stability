{
 "cells": [
  {
   "cell_type": "code",
   "execution_count": 227,
   "metadata": {
    "collapsed": true
   },
   "outputs": [],
   "source": [
    "from __future__ import division, print_function\n",
    "import numpy as np\n",
    "import matplotlib.pyplot as plt\n",
    "\n",
    "from scipy import stats\n",
    "\n",
    "%matplotlib inline"
   ]
  },
  {
   "cell_type": "markdown",
   "metadata": {},
   "source": [
    "for each planet we need to calculate\n",
    "* mass\n",
    "* density\n",
    "* semimajor\n",
    "* eccentricity\n",
    "* inclination\n",
    "* omega \n",
    "* OMEGA \n",
    "* mean anomaly"
   ]
  },
  {
   "cell_type": "code",
   "execution_count": 281,
   "metadata": {
    "collapsed": false
   },
   "outputs": [],
   "source": [
    "# specify star and planet parameters\n",
    "\n",
    "# star\n",
    "star = dict(\n",
    "    mass_msun=[0.0802,0.0073],\n",
    "    radius_rsun=[0.117,0.0036]\n",
    ")\n",
    "\n",
    "# planet b\n",
    "planetb = dict(\n",
    "    period_days=[1.51087081,0.00000060],\n",
    "    t0=[7322.51736,0.00010],\n",
    "    impact=[0.126,0.090],\n",
    "    mass_mearth=[0.85,0.72],\n",
    "    ecc_max=[0.2], # 5-sigma upper limit\n",
    "    td_percent=[0.7266,0.0088],\n",
    ")\n",
    "\n",
    "# planet c\n",
    "planetc = dict(\n",
    "    period_days=[2.4218233,0.0000017],\n",
    "    t0=[7282.80728,0.00019],\n",
    "    impact=[0.161,0.080],\n",
    "    mass_mearth=[1.38,0.61],\n",
    "    ecc_max=[0.2], # 5-sigma upper limit\n",
    "    td_percent=[0.687,0.010],\n",
    ")\n",
    "\n",
    "# planet d\n",
    "planetd = dict(\n",
    "    period_days=[4.049610,0.000063],\n",
    "    t0=[7670.14165,0.00035],\n",
    "    impact=[0.17,0.11],\n",
    "    mass_mearth=[0.41,0.27],\n",
    "    ecc_max=[0.175], # 5-sigma upper limit\n",
    "    td_percent=[0.367,0.017],\n",
    ")\n",
    "\n",
    "# planet e\n",
    "planete = dict(\n",
    "    period_days=[6.099615,0.000011],\n",
    "    t0=[7660.37859,0.00026],\n",
    "    impact=[0.12,0.10],\n",
    "    mass_mearth=[0.62,0.58],\n",
    "    ecc_max=[0.2], # 5-sigma upper limit\n",
    "    td_percent=[0.519,0.026],\n",
    ")\n",
    "\n",
    "# planet f\n",
    "planetf = dict(\n",
    "    period_days=[9.206690,0.000015],\n",
    "    t0=[7671.39767,0.00023],\n",
    "    impact=[0.382,0.035],\n",
    "    mass_mearth=[0.68,0.18],\n",
    "    ecc_max=[0.12], # 5-sigma upper limit\n",
    "    td_percent=[0.673,0.023],\n",
    ")\n",
    "\n",
    "# planet g\n",
    "planetg = dict(\n",
    "    period_days=[12.35294,0.00012],\n",
    "    t0=[7665.34937,0.00021],\n",
    "    impact=[0.421,0.031],\n",
    "    mass_mearth=[1.34,0.88],\n",
    "    ecc_max=[0.12], # 5-sigma upper limit\n",
    "    td_percent=[0.782,0.027],\n",
    ")\n",
    "\n",
    "# planet h\n",
    "planeth = dict(\n",
    "    period_days_uniform=[14,35],\n",
    "    t0=[7662.55463,0.00056],\n",
    "    impact=[0.45,0.3],\n",
    "    mass_mearth=[0.4,1.0],\n",
    "    ecc_max=[0.3], # 5-sigma upper limit\n",
    "    td_percent=[0.353,0.0326],\n",
    ")\n",
    "\n",
    "\n",
    "\n"
   ]
  },
  {
   "cell_type": "code",
   "execution_count": null,
   "metadata": {
    "collapsed": true
   },
   "outputs": [],
   "source": []
  },
  {
   "cell_type": "code",
   "execution_count": 292,
   "metadata": {
    "collapsed": false
   },
   "outputs": [],
   "source": [
    "def calc_mercury_parameters(pdicts, sdict, size=1):\n",
    "\n",
    "    # stellar radius\n",
    "    sradius_rsun = _get_property(sdict['radius_rsun'][0], sdict['radius_rsun'][1], 0.0, 100.0, size=size)\n",
    "    \n",
    "    # stellar mass\n",
    "    smass_msun = _get_property(sdict['mass_msun'][0], sdict['mass_msun'][1], 0.0, 100.0, size=size)\n",
    "    \n",
    "    nplanets = len(pdicts)\n",
    "    mercury_params = []\n",
    "    for pdict in pdicts:\n",
    "        mercury_params.append(_calc_planet_parameters(pdict, sradius_rsun, smass_msun, size=1))\n",
    "    \n",
    "    if size == 1:\n",
    "        mercury_params = np.reshape(mercury_params, [nplanets, 8])\n",
    "    return mercury_params\n",
    "\n",
    "def _calc_planet_parameters(pdict, sradius_rsun, smass_msun, size=1):\n",
    "      \n",
    "    # mass \n",
    "    pmass_mearth = _get_property(pdict['mass_mearth'][0], pdict['mass_mearth'][1], 0.0, 5.0, size=size)\n",
    "    pmass_msun = pmass_mearth * 3.003467E-6\n",
    "    \n",
    "    # density\n",
    "    rprs = (_get_property(pdict['td_percent'][0], pdict['td_percent'][1], 0.0, 50., size=size)/100.)**0.5\n",
    "    pradius_rsun = (rprs * sradius_rsun)\n",
    "    pdensity_cgs = (pmass_msun * 1.989E33) / ((4./3.) *np.pi* (pradius_rsun * 69.57E9)**3) \n",
    "    \n",
    "    # semimajor\n",
    "    sdensity_cgs = (smass_msun * 1.989E33) / ((4./3.) * np.pi* (sradius_rsun * 69.57E9)**3)\n",
    "    \n",
    "    if 'period_days' in pdict.keys():\n",
    "        pperiod_days = _get_property(pdict['period_days'][0], pdict['period_days'][1], 0.0, 10000.0, size=size)\n",
    "    elif 'period_days_uniform' in pdict.keys():\n",
    "        pperiod_days = np.random.uniform(pdict['period_days_uniform'][0], pdict['period_days_uniform'][1], size=size)\n",
    "    else:\n",
    "        raise 'period is missing'\n",
    "    ars = get_ar(sdensity_cgs, pperiod_days)\n",
    "    semimajor_au = ars * sradius_rsun * 0.00464913034\n",
    "    \n",
    "    # ecc\n",
    "    ecc = np.random.uniform(0.0, pdict['ecc_max'], size=size)\n",
    "    \n",
    "    # inclination\n",
    "    b = _get_property(pdict['impact'][0], pdict['impact'][1], 0.0, 1.0, size=size)\n",
    "    inc = np.degrees(np.arccos(b / ars))\n",
    "    \n",
    "    # omega\n",
    "    omega = np.random.rand(size) * 360\n",
    "    \n",
    "    # OMEGA\n",
    "    OMEGA = np.random.rand(size) * 360 \n",
    "    \n",
    "    # meananomaly\n",
    "    t0 = np.random.normal(pdict['t0'][0], pdict['t0'][1], size=size)\n",
    "    meananomaly = (t0 % pperiod_days) / pperiod_days * 360\n",
    "    \n",
    "    \n",
    "    return pmass_msun, pdensity_cgs, semimajor_au, ecc, inc, omega, OMEGA, meananomaly\n",
    "\n",
    "def _get_property(mu, sigma, lower, upper, size):\n",
    "    X = stats.truncnorm.rvs(\n",
    "    (lower - mu) / sigma, (upper - mu) / sigma, loc=mu, scale=sigma, size=size)\n",
    "    return X\n",
    "\n",
    "\n",
    "def get_ar(rho,period):\n",
    "    \"\"\" gets a/R* from period and mean stellar density\"\"\"\n",
    "    G = 6.67E-11\n",
    "    rho_SI = rho * 1000.\n",
    "    tpi = 3. * np.pi\n",
    "    period_s = period * 86400.\n",
    "    part1 = period_s**2 * G * rho_SI\n",
    "    ar = (part1 / tpi)**(1./3.)\n",
    "    return ar\n",
    "\n"
   ]
  },
  {
   "cell_type": "code",
   "execution_count": 297,
   "metadata": {
    "collapsed": false
   },
   "outputs": [],
   "source": [
    "pdicts = [planetb, planetc, planetd, planete, planetf, planetg, planeth]\n",
    "q = calc_mercury_parameters(pdicts, star, size=1)"
   ]
  },
  {
   "cell_type": "code",
   "execution_count": 298,
   "metadata": {
    "collapsed": false
   },
   "outputs": [
    {
     "name": "stdout",
     "output_type": "stream",
     "text": [
      ")O+_06 Big-body initial data  (WARNING: Do not delete this line!!)\n",
      ") Lines beginning with ) are ignored.\n",
      ")---------------------------------------------------------------------\n",
      "style (Cartesian, Asteroidal, Cometary) = Ast\n",
      "epoch (in days) = 0\n",
      ")---------------------------------------------------------------------\n",
      " PL1  m=5.29335286427e-07   d=0.782887909861\n",
      " 0.0107451796487 0.0179840586075 89.2797335997 224.035863701 60.6264500675 199.11674704  0. 0. 0.\n",
      " PL2  m=4.88567681607e-06   d=7.94430667632\n",
      " 0.0147171453652 0.147395189085 89.7259184124 103.969200702 96.4575250127 57.5750531725  0. 0. 0.\n",
      " PL3  m=1.21847438558e-06   d=4.9277256779\n",
      " 0.0207334781259 0.166793011888 89.7455070975 19.7696641937 1.22945615356 13.0041705069  0. 0. 0.\n",
      " PL4  m=2.0063932814e-06   d=5.00610502414\n",
      " 0.0272435245565 0.117199458824 89.9628577261 299.243220589 317.818542142 317.035789111  0. 0. 0.\n",
      " PL5  m=1.77977018533e-06   d=2.71625038771\n",
      " 0.0358479982821 0.0737592707889 89.7565108299 177.869693568 83.5372887334 86.4829813948  0. 0. 0.\n",
      " PL6  m=1.28635567445e-06   d=1.64677336305\n",
      " 0.0436088629565 0.1035643245 89.6824221699 259.447638481 263.665835547 190.854564442  0. 0. 0.\n",
      " PL7  m=4.04909572015e-06   d=23.246594285\n",
      " 0.0531109427093 0.069732910376 89.6216162676 231.002562226 102.01793636 187.25905021  0. 0. 0.\n"
     ]
    }
   ],
   "source": [
    "outstr = r''')O+_06 Big-body initial data  (WARNING: Do not delete this line!!)\n",
    ") Lines beginning with ) are ignored.\n",
    ")---------------------------------------------------------------------\n",
    "style (Cartesian, Asteroidal, Cometary) = Ast\n",
    "epoch (in days) = 0\n",
    ")---------------------------------------------------------------------\n",
    " PL1  m={}   d={}\n",
    " {} {} {} {} {} {}  0. 0. 0.\n",
    " PL2  m={}   d={}\n",
    " {} {} {} {} {} {}  0. 0. 0.\n",
    " PL3  m={}   d={}\n",
    " {} {} {} {} {} {}  0. 0. 0.\n",
    " PL4  m={}   d={}\n",
    " {} {} {} {} {} {}  0. 0. 0.\n",
    " PL5  m={}   d={}\n",
    " {} {} {} {} {} {}  0. 0. 0.\n",
    " PL6  m={}   d={}\n",
    " {} {} {} {} {} {}  0. 0. 0.\n",
    " PL7  m={}   d={}\n",
    " {} {} {} {} {} {}  0. 0. 0.'''.format(*q.flatten())\n",
    "print(outstr)"
   ]
  },
  {
   "cell_type": "code",
   "execution_count": null,
   "metadata": {
    "collapsed": false
   },
   "outputs": [],
   "source": []
  },
  {
   "cell_type": "code",
   "execution_count": null,
   "metadata": {
    "collapsed": false
   },
   "outputs": [],
   "source": []
  },
  {
   "cell_type": "code",
   "execution_count": null,
   "metadata": {
    "collapsed": true
   },
   "outputs": [],
   "source": []
  }
 ],
 "metadata": {
  "kernelspec": {
   "display_name": "Python 2",
   "language": "python",
   "name": "python2"
  },
  "language_info": {
   "codemirror_mode": {
    "name": "ipython",
    "version": 2
   },
   "file_extension": ".py",
   "mimetype": "text/x-python",
   "name": "python",
   "nbconvert_exporter": "python",
   "pygments_lexer": "ipython2",
   "version": "2.7.11"
  }
 },
 "nbformat": 4,
 "nbformat_minor": 0
}
